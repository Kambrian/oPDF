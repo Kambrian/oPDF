{
 "metadata": {
  "name": "",
  "signature": "sha256:fc5e2bc19ab75673c460c748adba9700a945c3fc872298a9995dec5e4f87b305"
 },
 "nbformat": 3,
 "nbformat_minor": 0,
 "worksheets": [
  {
   "cells": [
    {
     "cell_type": "markdown",
     "metadata": {},
     "source": [
      "# oPDF tutorial"
     ]
    },
    {
     "cell_type": "markdown",
     "metadata": {},
     "source": [
      "`oPDF` is a code for modelling the phase space distribution of steady-state tracers in spherical potentials. For more information, check the [website](http://kambrian.github.io/oPDF).\n",
      "\n",
      "Please consult the science paper on how it works. \n",
      "\n",
      "You can use this tutorial interactively in ipython notebook by running\n",
      "    \n",
      "    ipython notebook --pylab=inline\n",
      "    \n",
      "from the root directory of the oPDF code. This will open your browser, and you can click `tutorial.ipynb` in the opened webpage. If that does not work, then simply continue reading this document as a webpage. For the full API documentation, check [here](http://kambrian.github.io/oPDF/doc/api)."
     ]
    },
    {
     "cell_type": "markdown",
     "metadata": {},
     "source": [
      "##Getting Started\n",
      "###prerequisites\n",
      "The oPDF code depends on the following libraries:\n",
      "\n",
      "* C libraries\n",
      "    - [GSL](http://www.gnu.org/software/gsl/)\n",
      "    - [HDF5](http://www.hdfgroup.org/HDF5/)\n",
      "* Python libraries\n",
      "    - [numpy](https://pypi.python.org/pypi/numpy), [scipy](https://pypi.python.org/pypi/scipy), [matplotlib](https://pypi.python.org/pypi/matplotlib)\n",
      "    - [iminuit](https://pypi.python.org/pypi/iminuit) (optional, only needed if you want to do NFW-likelihood fit to the density profile of dark matter. If you don't have it, you need to comment out the `iminuit` related imports in the header of oPDF.py.)\n",
      "\n",
      "You can customize the makefile to specify how to compile and link against the GSL and HDF5 libraries, by specifying the `GSLINC,GSLLIB,HDFINC,HDFLIB` flags.\n",
      "###build the library\n",
      "under the root directory of the code, run\n",
      "\n",
      "    make\n",
      "\n",
      "This will generate the library `liboPDF.so`, the backend of the python module. Now you are all set up for the analysis. Open your python shell in the code directory, and get ready for the modelling. If you want to get rid of all the `*.o` files, you can clean them by\n",
      "\n",
      "    make clean\n",
      "\n",
      "###Set PYTHONPATH\n",
      "From now on, you should either work under the current directory, or have added the `oPDF` path to your `PYTHONPATH` before using `oPDF` in python. To add the path, do\n",
      "\n",
      "    export PYTHONPATH=$PYTHONPATH:$OPDF_DIR\n",
      "    \n",
      "in bash, or the following in csh:\n",
      "    \n",
      "    setenv PYTHONPATH ${PYTHONPATH}:$OPDF_DIR\n",
      "    \n",
      ". Replace `$OPDF_DIR` with the actual root directory of the `oPDF` code above.\n",
      "\n",
      "###Prepare the data files\n",
      "\n",
      "The data files are [hdf5](http://www.hdfgroup.org/HDF5/) files listing the positions and velocities of tracer particles, relative to the position and velocity of the center of the halo. The code comes with a sample file under data/:\n",
      "\n",
      "* mockhalo.hdf5, a mock stellar halo. The potential is NFW with $M=133.96\\times 10^{10}M_\\odot/h$, $c=16.16$, following the $\\rho_{vir}=200\\rho_{crit}$ definition.\n",
      "\n",
      "Compulsory datasets in a data file: \n",
      "\n",
      "- `x, shape=[nx3], datatype=float32`. The position of each particle.\n",
      "- `v, shape=[nx3], datatyep=float32`. The velocity of each particle.\n",
      "\n",
      "Optional datasets:\n",
      "\n",
      "- `PartMass, [nx1] or 1, float32`.  This is the mass of particles. Assuming 1 if not specified.\n",
      "- `SubID, [nx1], int32`. This is the subhalo id of each particle, for examination of the effects of subhaloes during the analysis.\n",
      "- `HaloID, [nx1], int32`. This is the host halo id of each particles.\n",
      "\n",
      "The default system of units are $10^{10} M_\\odot/h, {\\rm kpc}/h, km/s$ for Mass, Length and Velocity. If the units in the data differ from this system, you can choose to either update the data so that they follows the default systems, or change the system of units of oPDF code at run time. See the units section of this tutorial.\n",
      "\n",
      "*Note*: to construct a tracer sample for a halo, do not use FoF particles alone. Instead, make a spherical selection by including all the particles inside a given radius. These will include FoF particles, background particles, and particles from other FoFs. FoF selection should be avoided because it is an arbitrary linking of particles according to their separations, but not dynamics."
     ]
    },
    {
     "cell_type": "markdown",
     "metadata": {},
     "source": [
      "## A simple example: Fit the mock halo with RBinLike\n",
      "\n",
      "###Load the data\n",
      "Let's import the module first"
     ]
    },
    {
     "cell_type": "code",
     "collapsed": false,
     "input": [
      "from oPDF import *"
     ],
     "language": "python",
     "metadata": {},
     "outputs": [],
     "prompt_number": 2
    },
    {
     "cell_type": "markdown",
     "metadata": {},
     "source": [
      "Now the `rootdir` should have been automatically set to the directory of the `oPDF` code. Let's load the sample data"
     ]
    },
    {
     "cell_type": "code",
     "collapsed": false,
     "input": [
      "datafile=rootdir+\"/data/mockhalo.hdf5\"\n",
      "FullSample=Tracer(datafile)\n",
      "Sample=FullSample.copy(0,1000)"
     ],
     "language": "python",
     "metadata": {},
     "outputs": [],
     "prompt_number": 3
    },
    {
     "cell_type": "markdown",
     "metadata": {},
     "source": [
      "This will load the data into FullSample, and make a subsample of 1000 particles from the FullSample. You may want to do your analysis with the full sample. We extract the subsample just for illustrution purpose, to speed up the calculation in this tutorial.\n",
      "\n",
      "###Perform the fitting.\n",
      "\n",
      "Now let's fit the data with the radial binned likelihood estimator with 10 logarithmic radial bins. "
     ]
    },
    {
     "cell_type": "code",
     "collapsed": false,
     "input": [
      "Estimators.RBinLike.nbin=10\n",
      "x,fval,status=Sample.dyn_fit(Estimators.RBinLike)\n",
      "print x,fval,status"
     ],
     "language": "python",
     "metadata": {},
     "outputs": [
      {
       "output_type": "stream",
       "stream": "stdout",
       "text": [
        "[ 118.17712485   19.81948425] 5014.14688443 1\n"
       ]
      }
     ],
     "prompt_number": 4
    },
    {
     "cell_type": "markdown",
     "metadata": {},
     "source": [
      "In one or two minutes, you will get the results above, where \n",
      "\n",
      "* `x` is the best-fitting parameters\n",
      "* `fval` is the maximum log-likelihood value\n",
      "* `status` =1 means fitting is successful, =0 means fit failed. \n",
      "\n",
      "That's it! You have got the best-fitting $M=118.18\\times10^{10} M_\\odot/h$ and $c=19.82$. \n",
      "### Estimate significances\n",
      "How does that compare to the real parameters of $M=133.96\\times 10^{10}M_\\odot/h$, $c=16.16$? Not too far, but let's check the likelihood ratio of the two models"
     ]
    },
    {
     "cell_type": "code",
     "collapsed": false,
     "input": [
      "x0=[133.96,16.16]\n",
      "f0=Sample.likelihood(x0, Estimators.RBinLike)\n",
      "likerat=2*(fval-f0)\n",
      "print likerat"
     ],
     "language": "python",
     "metadata": {},
     "outputs": [
      {
       "output_type": "stream",
       "stream": "stdout",
       "text": [
        "1.09277867155\n"
       ]
      }
     ],
     "prompt_number": 5
    },
    {
     "cell_type": "markdown",
     "metadata": {},
     "source": [
      "So we got a likelihood ratio of 1.09. How significant is that? According to Wilks' theorem, if the data follows the null model (with the real parameters), then the likelihood ratio between the best-fit and the null would follow a $\\chi^2$ distribution. Since we have two free parameters, we should compare our likelihood ratio to a $\\chi^2(dof=2)$ distribution. We can obtain the pval from the survival function of a $\\chi^2$ distribution, and convert that to a Guassian significance level. This is automatically done by the Chi2Sig() utility function"
     ]
    },
    {
     "cell_type": "code",
     "collapsed": false,
     "input": [
      "from myutils import Chi2Sig\n",
      "significance=Chi2Sig(likerat, dof=2)\n",
      "print significance"
     ],
     "language": "python",
     "metadata": {},
     "outputs": [
      {
       "output_type": "stream",
       "stream": "stdout",
       "text": [
        "0.554792280618\n"
       ]
      }
     ],
     "prompt_number": 6
    },
    {
     "cell_type": "markdown",
     "metadata": {},
     "source": [
      "So the best-fitting differs from the real parameters by $0.55\\sigma$, which is not significant at all. In other words, the best-fitting parameters are quite consistent with the real parameters! \n",
      "\n",
      "###Confidence Contour\n",
      "Following the same philosophy for the significance levels, we can start to define confidence contours formed by points that differ from the best-fitting parameters by a given significance level. This is done by scanning a likelihood surface and then converting it to a significance surface. For example, below we scan $20\\times20$ grids around the best-fitting parameters `x`, inside a box spanning from `log10(x)-dx` to `log10(x)+dx` in each dimension. For the confidence levels of RBinLike, we can provide the maximum likelihood value that we obtained above, to save the function from searching for maxlike itself. Be prepared that the scan can be slow."
     ]
    },
    {
     "cell_type": "code",
     "collapsed": false,
     "input": [
      "m,c,sig,like=Sample.scan_confidence(Estimators.RBinLike, x, ngrids=[20,20], dx=[0.5,0.5], logscale=True, maxlike=fval)"
     ],
     "language": "python",
     "metadata": {},
     "outputs": [],
     "prompt_number": 7
    },
    {
     "cell_type": "markdown",
     "metadata": {},
     "source": [
      "The returned `m,c` are the grids (1-d vectors) of the scan, and `sig,like` are the significance levels and likelihood values on the grids (2-d array). Now let's plot them in units of the real parameter values:"
     ]
    },
    {
     "cell_type": "code",
     "collapsed": false,
     "input": [
      "plt.contour(m/x0[0],c/x0[1],sig,levels=[1,2,3]) #1,2,3sigma contours.\n",
      "plt.plot(x[0]/x0[0],x[1]/x0[1],'ro') #the best-fitting\n",
      "plt.plot(plt.xlim(),[1,1], 'k--', [1,1], plt.ylim(),  'k--')# the real parameters\n",
      "plt.loglog()\n",
      "plt.xlabel(r'$M/M_0$')\n",
      "plt.ylabel(r'$c/c_0$')"
     ],
     "language": "python",
     "metadata": {},
     "outputs": [
      {
       "metadata": {},
       "output_type": "pyout",
       "prompt_number": 8,
       "text": [
        "<matplotlib.text.Text at 0x3e97050>"
       ]
      },
      {
       "metadata": {},
       "output_type": "display_data",
       "png": "[encoded data removed]",
       "text": [
        "<matplotlib.figure.Figure at 0x35f0190>"
       ]
      }
     ],
     "prompt_number": 8
    },
    {
     "cell_type": "markdown",
     "metadata": {},
     "source": [
      "### Phase Images\n",
      "How does the data look in $(\\theta,E,L)$ space? We can create images showing the distribution of particles in these coordinates. These images give a direct visualization of how uniformly the tracer are distributed along $\\theta$-direction, on different ($E,L$) orbits. They are quite useful for spotting deviations from steady-stateness in particular regions in phase space, for example, to examine local deviations caused by subhaloes.\n",
      "\n",
      "To avoid having too few particles in each pixel we will start by drawing a larger sample as NewSample, and then plot the images adopting the real potential with parameters `x0`."
     ]
    },
    {
     "cell_type": "code",
     "collapsed": false,
     "input": [
      "NewSample=FullSample.copy(0,20000)"
     ],
     "language": "python",
     "metadata": {},
     "outputs": [],
     "prompt_number": 9
    },
    {
     "cell_type": "code",
     "collapsed": false,
     "input": [
      "plt.figure(figsize=(12,5))\n",
      "plt.subplot(1,2,1)\n",
      "NewSample.phase_image(x0, proxy='E')\n",
      "plt.title('Real Potential')\n",
      "plt.subplot(1,2,2)\n",
      "NewSample.phase_image(x0, proxy='L')\n",
      "plt.title('Real Potential')"
     ],
     "language": "python",
     "metadata": {},
     "outputs": [
      {
       "metadata": {},
       "output_type": "pyout",
       "prompt_number": 10,
       "text": [
        "<matplotlib.text.Text at 0x4117ed0>"
       ]
      },
      {
       "metadata": {},
       "output_type": "display_data",
       "png": "[encoded data removed]",
       "text": [
        "<matplotlib.figure.Figure at 0x3d41550>"
       ]
      }
     ],
     "prompt_number": 10
    },
    {
     "cell_type": "markdown",
     "metadata": {},
     "source": [
      "We can see that the particle distribution is indeed uniform (roughly given the current resolution) along the $\\theta$-direction, irrespective of the energy and angular momentum. "
     ]
    },
    {
     "cell_type": "markdown",
     "metadata": {},
     "source": [
      "###TS profiles\n",
      "\n",
      "If you want a more quantitative view of how much deviation there is at each $E$, $L$ or even $r$, you can plot the mean phase deviation or AD distance (Test Statistics, or TS) inside different $(E,L,r)$ bins. "
     ]
    },
    {
     "cell_type": "code",
     "collapsed": false,
     "input": [
      "nbin=30\n",
      "x0=[183.5017,16.1560]\n",
      "plt.figure(figsize=(15,5))\n",
      "for i,proxy in enumerate('rEL'):\n",
      "    plt.subplot(1,3,i+1)\n",
      "    NewSample.plot_TSprof(x0, proxy, nbin)\n",
      "    plt.plot(plt.xlim(), [0,0], 'k--')"
     ],
     "language": "python",
     "metadata": {},
     "outputs": [
      {
       "metadata": {},
       "output_type": "display_data",
       "png": "[encoded data removed]",
       "text": [
        "<matplotlib.figure.Figure at 0x3d41410>"
       ]
      }
     ],
     "prompt_number": 11
    },
    {
     "cell_type": "markdown",
     "metadata": {},
     "source": [
      "See, the mean phase deviations are within 3$\\sigma$ everywhere. Note that the raw mean phase is a standard normal variable if the tracer is in steady-state under the potential."
     ]
    },
    {
     "cell_type": "markdown",
     "metadata": {},
     "source": [
      "##Customizing the analysis"
     ]
    },
    {
     "cell_type": "markdown",
     "metadata": {},
     "source": [
      "### Estimators\n",
      "There are several predefined estimators to choose from when you need an estimator as a parameter. These are listed as members of `Estimators`. In most cases, you can freely choose from the following when an estimator is required.\n",
      "\n",
      "- Estimators.RBinLike\n",
      "- Estimators.AD\n",
      "- Estimators.MeanPhase\n",
      "- Estimators.MeanPhaseRaw (same as MeanPhase but returns the un-squared mean phase deviation, so it is a standard normal variable instead of a chi-square for MeanPhase).\n",
      "\n",
      "For RBinLike, you can also customize the number of radial bins and whether to bin in linear or log scales. For example, the following will change the RBinLike to use 20 linear bins."
     ]
    },
    {
     "cell_type": "code",
     "collapsed": false,
     "input": [
      "Estimators.RBinLike.nbin=20\n",
      "Estimators.RBinLike.logscale=False"
     ],
     "language": "python",
     "metadata": {},
     "outputs": [],
     "prompt_number": 12
    },
    {
     "cell_type": "markdown",
     "metadata": {},
     "source": [
      "###units\n",
      "The system of units is specified in three fundamental units: Mass[$M_\\odot/h$], Length[kpc/$h$], Velocity[km/s]. You can query the current units with"
     ]
    },
    {
     "cell_type": "code",
     "collapsed": false,
     "input": [
      "Globals.get_units()"
     ],
     "language": "python",
     "metadata": {},
     "outputs": [
      {
       "output_type": "stream",
       "stream": "stdout",
       "text": [
        "Mass  : 10000000000.0 Msun/h\n",
        "Length: 1.0 kpc/h\n",
        "Vel   : 1.0 km/s\n"
       ]
      },
      {
       "metadata": {},
       "output_type": "pyout",
       "prompt_number": 13,
       "text": [
        "(10000000000.0, 1.0, 1.0)"
       ]
      }
     ],
     "prompt_number": 13
    },
    {
     "cell_type": "markdown",
     "metadata": {},
     "source": [
      "The default units are [$10^{10} M_\\odot/h$, kpc/$h$, km/s]. The oPDF code does not need to know the value of the hubble constant $h$, as long as the units are correctly specified. It is the user's responsibility to make sure that his/her units are consistent with his assumed hubble parameter. \n",
      "\n",
      "If you want to change the system of units, you must do it immediately after importing the `oPDF` module, to avoid inconsistency with units of previously loaded tracers. For example, if your data is provided in units of (1e10Msun, kpc, km/s), and you adopt $h=0.73$ in your model, then you can set the units like below"
     ]
    },
    {
     "cell_type": "code",
     "collapsed": false,
     "input": [
      "from oPDF import *\n",
      "h=0.73\n",
      "Globals.set_units(1e10*h,h,1)"
     ],
     "language": "python",
     "metadata": {},
     "outputs": [],
     "prompt_number": 14
    },
    {
     "cell_type": "markdown",
     "metadata": {},
     "source": [
      "That is, to set them to ($10^{10}h$ Msun/$h$, $h$kpc/$h$, km/s).\n",
      "\n",
      "The user should only use Globals.set_units() to change the units, which automatically updates several interal constants related to units. Never try to change the internal unit variables (e.g., Globals.units.MassInMsunh) manually."
     ]
    },
    {
     "cell_type": "markdown",
     "metadata": {},
     "source": [
      "###cosmology\n",
      "The cosmology parameters ($\\Omega_{M0}$, $\\Omega_{\\Lambda0}$)can be accessed through"
     ]
    },
    {
     "cell_type": "code",
     "collapsed": false,
     "input": [
      "print Globals.cosmology.OmegaM0, Globals.cosmology.OmegaL0"
     ],
     "language": "python",
     "metadata": {},
     "outputs": [
      {
       "output_type": "stream",
       "stream": "stdout",
       "text": [
        "0.3 0.7\n"
       ]
      }
     ],
     "prompt_number": 15
    },
    {
     "cell_type": "markdown",
     "metadata": {},
     "source": [
      "To change the cosmology to (0.25, 0.75), simply do"
     ]
    },
    {
     "cell_type": "code",
     "collapsed": false,
     "input": [
      "Globals.cosmology.OmegaM0=0.25\n",
      "Globals.cosmology.OmegaL0=0.75"
     ],
     "language": "python",
     "metadata": {},
     "outputs": [],
     "prompt_number": 16
    },
    {
     "cell_type": "markdown",
     "metadata": {},
     "source": [
      "Again this is advised to be done in the beginning, to avoid inconsistency in the calculations."
     ]
    },
    {
     "cell_type": "markdown",
     "metadata": {},
     "source": [
      "###parametrization of the potential\n",
      "The default parameterization of the potential is a NFW potential with mass and concentration parameters. You can change the parametrization of the halo associated with your tracer. For example, if you want to fit for $(\\rho_s,r_s)$ instead of ($M,c$), then"
     ]
    },
    {
     "cell_type": "code",
     "collapsed": false,
     "input": [
      "Sample.halo.set_type(halotype=HaloTypes.NFWRhosRs)"
     ],
     "language": "python",
     "metadata": {},
     "outputs": [],
     "prompt_number": 17
    },
    {
     "cell_type": "markdown",
     "metadata": {},
     "source": [
      "Available types are listed as members of the `HaloTypes` objects, including:\n",
      "\n",
      "- HaloTypes.NFWMC: NFW halo parametrized by $(M,c)$\n",
      "- HaloTypes.NFWRhosRs: NFW, $(\\rho_s,r_s)$\n",
      "- HaloTypes.NFWPotsRs: NFW, ($\\psi_s, r_s$), with $\\psi_s=4\\pi G\\rho_s r_s^2$.\n",
      "- HaloTypes.CorePotsRs: Cored Generalized NFW Potential (inner density slope=0), parametrized by ($\\psi_s,r_s$)\n",
      "- HaloTypes.CoreRhosRs: Cored GNFW, $(\\rho_s,r_s)$\n",
      "- HaloTypes.TMPMC: Template profile, $(M,c)$ parametrization\n",
      "- HaloTypes.TMPPotScaleRScale: Template, $\\psi_s/\\psi_{s0}, r_s/r_{s0}$\n",
      "\n",
      "To use template profiles, you have to create them first, in the form of ($r,\\psi,\\rho(< r)$) arrays and the real $r_s$ parameter to be added to C/TemplateData.h. You need to recompile the C library once this is done. PotentialProf.py can help you in generating the templates from DM distributions.\n",
      "\n",
      "If you use template profiles, you also need to specify the template id, to tell the code which template in TemplateData.h to use. For example,\n"
     ]
    },
    {
     "cell_type": "code",
     "collapsed": false,
     "input": [
      "Sample.halo.set_type(halotype=HaloTypes.TMPPotScaleRScale, TMPid=5)"
     ],
     "language": "python",
     "metadata": {},
     "outputs": [],
     "prompt_number": 18
    },
    {
     "cell_type": "markdown",
     "metadata": {},
     "source": [
      "You can also change the virial definition and redshift of the halo, for example:"
     ]
    },
    {
     "cell_type": "code",
     "collapsed": false,
     "input": [
      "Sample.halo.set_type(virtype=VirTypes.B200, redshift=0.1)"
     ],
     "language": "python",
     "metadata": {},
     "outputs": [],
     "prompt_number": 19
    },
    {
     "cell_type": "markdown",
     "metadata": {},
     "source": [
      "When fitting for the potential, it is always a good choice to adjust the scales of parameters so that the numerical values of the parameters are of order 1. oPDF allows you to change the scale of the parameters. The physical values of the parameters will be the raw parameters times the scale of parameters. By default, the scales are all set to unity. We can change them as"
     ]
    },
    {
     "cell_type": "code",
     "collapsed": false,
     "input": [
      "Sample.halo.set_type(scales=[100,10])"
     ],
     "language": "python",
     "metadata": {},
     "outputs": [],
     "prompt_number": 20
    },
    {
     "cell_type": "markdown",
     "metadata": {},
     "source": [
      "Now if we fit the Sample again with the RBinLike estimator, instead of `x=[ 118.18    19.82]`, we will get `x=[1.1818    1.982]` as the best fit, but the physical values are not changed."
     ]
    },
    {
     "cell_type": "markdown",
     "metadata": {},
     "source": [
      "####Halos\n",
      "Each tracer is associated with a halo. You can also work with a seperate halo object. There are several methods associated with a halo object. You can set_type(), set_param(), get the mass and potential profiles"
     ]
    },
    {
     "cell_type": "code",
     "collapsed": false,
     "input": [
      "halo=Halo(halotype=HaloTypes.NFWMC)\n",
      "halo.set_param([180,13])\n",
      "r=np.logspace(-2,1,10)\n",
      "plt.figure(figsize=(16,4))\n",
      "plt.subplot(121)\n",
      "plt.loglog(r, halo.mass(r))\n",
      "plt.xlabel('r')\n",
      "plt.ylabel('M(<r)')\n",
      "plt.subplot(122)\n",
      "plt.loglog(r, -halo.pot(r))\n",
      "plt.xlabel('r')\n",
      "plt.ylabel(r'$-\\psi(r)$')"
     ],
     "language": "python",
     "metadata": {},
     "outputs": [
      {
       "metadata": {},
       "output_type": "pyout",
       "prompt_number": 21,
       "text": [
        "<matplotlib.text.Text at 0x4b54e90>"
       ]
      },
      {
       "metadata": {},
       "output_type": "display_data",
       "png": "[encoded data removed]",
       "text": [
        "<matplotlib.figure.Figure at 0x44d1050>"
       ]
      }
     ],
     "prompt_number": 21
    },
    {
     "cell_type": "markdown",
     "metadata": {},
     "source": [
      "###selecting and cutting\n",
      "The following line applies a radial cut from 1 to 100 in system unit. Note it not only selects particles to have $1<r<100$, but also sets the radial boundary for the dynamical model, so that only dyanmical consistency inside the selected radial range is checked."
     ]
    },
    {
     "cell_type": "code",
     "collapsed": false,
     "input": [
      "Sample.radial_cut(1,100)"
     ],
     "language": "python",
     "metadata": {},
     "outputs": [],
     "prompt_number": 22
    },
    {
     "cell_type": "markdown",
     "metadata": {},
     "source": [
      "This creates a subsample by selecting high angular momentum (L>1e4) particles:"
     ]
    },
    {
     "cell_type": "code",
     "collapsed": false,
     "input": [
      "SubSample=Sample.select(Sample.data['L']>1e4)"
     ],
     "language": "python",
     "metadata": {},
     "outputs": [],
     "prompt_number": 23
    },
    {
     "cell_type": "markdown",
     "metadata": {},
     "source": [
      "All the particle data can be accessed from the record array Sample.data. You can do similar selections (and many other operations) on any available fields of the data (except for radial selection). Have a look at the datatype or `Particle_t._fields_` to see the available fields"
     ]
    },
    {
     "cell_type": "code",
     "collapsed": false,
     "input": [
      "print Sample.data.dtype.names"
     ],
     "language": "python",
     "metadata": {},
     "outputs": [
      {
       "output_type": "stream",
       "stream": "stdout",
       "text": [
        "('haloid', 'subid', 'flag', 'w', 'r', 'K', 'L2', 'L', 'x', 'v', 'E', 'T', 'vr', 'theta', 'rlim')\n"
       ]
      }
     ],
     "prompt_number": 24
    },
    {
     "cell_type": "markdown",
     "metadata": {},
     "source": [
      "Note:\n",
      "\n",
      "- The dynamical method tests the radial distribution, so one should avoid distorting the radial distribution with any radial selection. One can still apply radial cuts, but should only do this with the Sample.radial_cut(rmin,rmax) function.\n",
      "- The `w` field is the particle mass in units of the average particle mass. The average particle mass is `Sample.mP`. These are all ones if no particle mass is given in the datafile.\n",
      "- the `haloid` and `subid` fields are only filled if you have `SubID` and `HaloID` datasets in the datafile when loading. \n",
      "- The `E`, `theta` and `rlim` fields are the energy, phase-angle, and radial limits (peri and apo-center distances) of the orbits. These depend on the potential, and are only filled when you have done some calculation in a halo or have filled them explicitly with the set_phase() function, e.g.,"
     ]
    },
    {
     "cell_type": "code",
     "collapsed": true,
     "input": [
      "Sample.set_phase(x0)\n",
      "print Sample.data['E'][10]\n",
      "print Sample.data['theta'][35]"
     ],
     "language": "python",
     "metadata": {},
     "outputs": [
      {
       "output_type": "stream",
       "stream": "stdout",
       "text": [
        "10025467.0597\n",
        "0.978053348837\n"
       ]
      }
     ],
     "prompt_number": 25
    },
    {
     "cell_type": "markdown",
     "metadata": {},
     "source": [
      "###Extending the code\n",
      "\n",
      "- To add new types of potential\n",
      "\n",
      " * in C/halo.h: add your HaloType identifier in HaloType_t \n",
      " * in C/halo.c: \n",
      "      + write your halo initializer in halo_set_param(). \n",
      "      + write your potential function in halo_pot()\n",
      "      + optionally, write your cumulative mass profile in halo_mass(), and add any initilization in halo_set_type() if needed.\n",
      " * in oPDF.py:\n",
      "      + add your newly defined halotype to the following line\n",
      "      ```\n",
      "          HaloTypes=NamedEnum(...\n",
      "      ```\n",
      "\n",
      "- To add new template profiles\n",
      "  * Generate your template in the form of ($r,\\psi,\\rho(< r)$) arrays, and append to  `PotentialTemplate` in `C/TemplateData.h`.\n",
      "  * Append the scale radius of the new template to `TemplateScale` in `C/TemplateData.h`. This is only used if you want to use `TMPMC` parametrization. In this case the scale radius must be the radius with respect to which you define the concentration. That is, you must make sure when you input the real $M,c$ parameters to the template, and I convert $Rv$ from $M$ and then compare to this scale radius, I get the real $c$ that you input.\n",
      "  * $\\rho(<r)$ and $r_s$ are only needed if you want to use `TMPMC` parametrization. If you only want to use `TMPPotScaleRScale` parametrization, you can fill $\\rho(<r)$ and $r_s$ with ones or any value.\n",
      "  \n",
      "- To add new estimators\n",
      "  * check C/models.c\n",
      "  \n",
      "You need to recompile the C library once this is done. `PotentialProf.py` can help you in generating the templates from DM distributions."
     ]
    },
    {
     "cell_type": "markdown",
     "metadata": {},
     "source": [
      "##Additional Features\n",
      "###Parallel jobs\n",
      "The C backend of oPDF is fully parallelized with `OpenMP` for parallel computation on shared memory machines. To control the number of threads used, for example to use 16 threads, set the environment variable\n",
      "\n",
      "    export OMP_NUM_THREADS=16\n",
      " \n",
      " in bash or\n",
      " \n",
      "     setenv OMP_NUM_THREADS 16\n",
      "     \n",
      "in csh before running. \n",
      "\n",
      "When submitting python scripts containing `oPDF` calculations to a batch system on a server, try to submit to a shared memory node and request more than one CPUs on the node to make use of the parallel power. \n",
      "\n",
      "###Memory management\n",
      "Each loaded tracer is associated with a memory block in C. If you are certain you no longer need the tracer, you can clean it to free up memory. For example, "
     ]
    },
    {
     "cell_type": "code",
     "collapsed": false,
     "input": [
      "NewSample.clean()"
     ],
     "language": "python",
     "metadata": {},
     "outputs": [],
     "prompt_number": 26
    },
    {
     "cell_type": "markdown",
     "metadata": {},
     "source": [
      "will clear our previously created NewSample. If you know you only need the tracer for certain operations, you can automate the loading and cleaning process by using `with` statement:"
     ]
    },
    {
     "cell_type": "code",
     "collapsed": false,
     "input": [
      "with Tracer(datafile) as TempSample:\n",
      "    NewSample=TempSample.copy(0,100)"
     ],
     "language": "python",
     "metadata": {},
     "outputs": [],
     "prompt_number": 27
    },
    {
     "cell_type": "markdown",
     "metadata": {},
     "source": [
      "This will load the datafile into `TempSample`, create `NewSample` from `TempSample`, and clear `TempSample` when exiting the `with` block."
     ]
    },
    {
     "cell_type": "markdown",
     "metadata": {},
     "source": [
      "###Bootstrap sampling\n",
      "To create bootstrap samples (sample with replacement), just sample with a different seed each time"
     ]
    },
    {
     "cell_type": "code",
     "collapsed": false,
     "input": [
      "BSSample=Sample.resample(seed=123)"
     ],
     "language": "python",
     "metadata": {},
     "outputs": [],
     "prompt_number": 28
    },
    {
     "cell_type": "markdown",
     "metadata": {},
     "source": [
      "###NFW-likelihood\n",
      "To fit a spatial distribution of particles to an NFW profile (e.g., fitting the distribution of dark matter particles in a halo)"
     ]
    },
    {
     "cell_type": "code",
     "collapsed": false,
     "input": [
      "Sample.NFW_fit()"
     ],
     "language": "python",
     "metadata": {},
     "outputs": [
      {
       "output_type": "stream",
       "stream": "stdout",
       "text": [
        "**********************************************************************\n",
        "---------------------------------------------------------------------------------------\n",
        "fval = 6359.824931628151 | nfcn = 82 | ncalls = 82\n",
        "edm = 2.564356008095891e-05 (Goal: 5e-05) | up = 0.5\n",
        "---------------------------------------------------------------------------------------\n",
        "|          Valid |    Valid Param | Accurate Covar |         Posdef |    Made Posdef |\n",
        "---------------------------------------------------------------------------------------\n",
        "|           True |           True |           True |           True |          False |\n",
        "---------------------------------------------------------------------------------------\n",
        "|     Hesse Fail |        Has Cov |      Above EDM |                |  Reach calllim |\n",
        "---------------------------------------------------------------------------------------\n",
        "|          False |           True |          False |             '' |          False |\n",
        "---------------------------------------------------------------------------------------\n",
        "\n",
        "----------------------------------------------------------------------------------------------\n",
        "|      | Name  |  Value   | Para Err |   Err-   |   Err+   |  Limit-  |  Limit+  |          |\n",
        "----------------------------------------------------------------------------------------------\n",
        "|    0 |     m =  15.45   |  0.5484  |          |          |          |          |          |\n",
        "|    1 |     c =  25.63   |  2.777   |          |          |          |          |          |\n",
        "----------------------------------------------------------------------------------------------\n",
        "\n",
        "**********************************************************************\n",
        "['m', 'c']\n",
        "((1.0, -0.14515703395364832), (-0.14515703395364832, 1.0))\n",
        "       |    0    1 \n",
        "--------------------\n",
        "m    0 | 1.00 -0.15 \n",
        "c    1 | -0.15 1.00 \n",
        "--------------------\n",
        "\n"
       ]
      },
      {
       "metadata": {},
       "output_type": "pyout",
       "prompt_number": 29,
       "text": [
        "(({'hesse_failed': False, 'has_reached_call_limit': False, 'has_accurate_covar': True, 'has_posdef_covar': True, 'up': 0.5, 'edm': 2.564356008095891e-05, 'is_valid': True, 'is_above_max_edm': False, 'has_covariance': True, 'has_made_posdef_covar': False, 'has_valid_parameters': True, 'fval': 6359.824931628151, 'nfcn': 82},\n",
        "  [{'is_const': False, 'name': 'm', 'has_limits': False, 'value': 15.448578108740815, 'number': 0L, 'has_lower_limit': False, 'upper_limit': 0.0, 'lower_limit': 0.0, 'has_upper_limit': False, 'error': 0.5483502684852839, 'is_fixed': False},\n",
        "   {'is_const': False, 'name': 'c', 'has_limits': False, 'value': 25.626752919187034, 'number': 1L, 'has_lower_limit': False, 'upper_limit': 0.0, 'lower_limit': 0.0, 'has_upper_limit': False, 'error': 2.7766103272812517, 'is_fixed': False}]),\n",
        " <iminuit._libiminuit.Minuit at 0x4c10000>)"
       ]
      }
     ],
     "prompt_number": 29
    },
    {
     "cell_type": "markdown",
     "metadata": {},
     "source": [
      "In order for this to make sense, `Sample` should be loaded with dark matter particles of equal particle mass given in `Sample.mP`, and the number density profile times `Sample.mP` should give the physical density profile.\n",
      "\n",
      "You also need the [iminuit](https://pypi.python.org/pypi/iminuit) python package before you can use this function. If you don't have that, you need to comment out the `iminuit` related imports in the header of `oPDF.py`. Please consult the `iminuit` documentation for the `iminuit` outputs."
     ]
    }
   ],
   "metadata": {}
  }
 ]
}