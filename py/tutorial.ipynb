{
 "metadata": {
  "name": "tutorial"
 },
 "nbformat": 3,
 "nbformat_minor": 0,
 "worksheets": [
  {
   "cells": [
    {
     "cell_type": "heading",
     "level": 1,
     "metadata": {},
     "source": [
      "oPDF tutorial"
     ]
    },
    {
     "cell_type": "markdown",
     "metadata": {},
     "source": [
      "`oPDF` is a code for modelling the phase space distribution of steady-state tracers in spherical potentials. It is written in `C` and parallelized with `OpenMP`, with a `Python` frontend. In other words, it is both fast and convenient!\n",
      "\n",
      "You can use this tutorial interactively (i.e., run the codes in-place) if you can run the following command from the directory of this file:\n",
      "\n",
      "    ipython notebook --pylab=inline\n",
      "\n",
      "If that doesn't work, you can still use it as a html tutorial.\n",
      "\n",
      "Please consult the science paper on how these work. "
     ]
    },
    {
     "cell_type": "markdown",
     "metadata": {},
     "source": [
      "##Getting Started\n",
      "###prerequisites\n",
      "The oPDF code depends on the following libraries:\n",
      "\n",
      "* C libraries\n",
      "    - [GSL](http://www.gnu.org/software/gsl/)\n",
      "    - [HDF5](http://www.hdfgroup.org/HDF5/)\n",
      "* Python libraries\n",
      "    - [numpy](https://pypi.python.org/pypi/numpy), [scipy](https://pypi.python.org/pypi/scipy), [matplotlib](https://pypi.python.org/pypi/matplotlib)\n",
      "    - [iminuit](https://pypi.python.org/pypi/iminuit) (optional, only needed if you want to do NFW-likelihood fit to the density profile of dark matter.)\n",
      "\n",
      "You can customize the makefile to specify how to compile and link against the GSL and HDF5 libraries, by specifying the `GSLINC,GSLLIB,HDFINC,HDFLIB` flags.\n",
      "###build the library\n",
      "under the root directory of the C code, run\n",
      "\n",
      "    make\n",
      "\n",
      "This will generate the library `liboPDF.so`, the backend of the python module. Now you are all set up for the analysis. Change to the `py/` directory, open your python shell, and get ready for the modelling.\n",
      "\n",
      "###Prepare the data files\n",
      "\n",
      "The data files are [hdf5](http://www.hdfgroup.org/HDF5/) files listing the positions and velocities of tracer particles, relative to the position and velocity of the center of the halo. The code comes with two sample files under data/:\n",
      "\n",
      "* mock.hdf5, a mock stellar halo. The potential is NFW with $M=183.5017\\times 10^{10}M_\\odot$, $c=16.1560$, following the $\\rho_{vir}=200\\rho_{crit}$ definition.\n",
      "* Null.hdf5, a minimal datafile with only two particles, for creation of roughly empty tracers.\n",
      "\n",
      "Compulsory datasets in a data file: \n",
      "\n",
      "- `x, shape=[nx3], datatype=float32`. The position of each particle.\n",
      "- `v, shape=[nx3], datatyep=float32`. The velocity of each particle.\n",
      "\n",
      "Optional datasets:\n",
      "\n",
      "- `PartMass, [nx1] or 1, float32`.  This is the mass of particles. Assuming 1 if not specified.\n",
      "- `SubID, [nx1], int32`. This is the subhalo id of each particle, for examination of the effects of subhaloes during the analysis.\n",
      "- `HaloID, [nx1], int32`. This is the host halo id of each particles.\n",
      "\n",
      "The units of the data can be specified when running the code. \n",
      "\n",
      "*Note*: to construct a tracer sample for a halo, do not use FoF particles alone. Instead, make a spherical selection by including all the particles inside a given radius. These will include FoF particles, background particles, and particles from other FoFs. FoF selection should be avoided because it is an arbitrary linking of particles according to their separations, but not dynamics."
     ]
    },
    {
     "cell_type": "markdown",
     "metadata": {},
     "source": [
      "## A simple example: Fit the mock halo with RBinLike\n",
      "\n",
      "###Load the data"
     ]
    },
    {
     "cell_type": "code",
     "collapsed": false,
     "input": [
      "from oPDF import *"
     ],
     "language": "python",
     "metadata": {},
     "outputs": [],
     "prompt_number": 1
    },
    {
     "cell_type": "code",
     "collapsed": false,
     "input": [
      "datafile=\"../data/mockhalo.hdf5\"\n",
      "FullSample=Tracer(datafile)\n",
      "Sample=FullSample.copy(0,1000)"
     ],
     "language": "python",
     "metadata": {},
     "outputs": [
      {
       "output_type": "stream",
       "stream": "stdout",
       "text": [
        "759452 <oPDF.LP_Particle_t object at 0x34cf440>\n"
       ]
      }
     ],
     "prompt_number": 2
    },
    {
     "cell_type": "markdown",
     "metadata": {},
     "source": [
      "This will load the data into FullSample, and make a subsample of 1000 particles from the FullSample. You may want to do your analysis with the full sample. We extract the subsample just for illustrution purpose, to speed up the calculation in this tutorial.\n",
      "\n",
      "###Perform the fitting.\n",
      "\n",
      "Now let's fit the data with the radial binned likelihood estimator with 10 logarithmic radial bins. "
     ]
    },
    {
     "cell_type": "code",
     "collapsed": false,
     "input": [
      "Estimators.RBinLike.nbin=10\n",
      "x,fval,status=Sample.dyn_fit(Estimators.RBinLike)\n",
      "print x,fval,status"
     ],
     "language": "python",
     "metadata": {},
     "outputs": [
      {
       "output_type": "stream",
       "stream": "stdout",
       "text": [
        "[ 199.83322898   13.35230033] 5102.52062867 1\n"
       ]
      }
     ],
     "prompt_number": 3
    },
    {
     "cell_type": "markdown",
     "metadata": {},
     "source": [
      "In one or two minutes, you will get the results above, where \n",
      "\n",
      "* `x` is the best-fitting parameters\n",
      "* `fval` is the maximum log-likelihood value\n",
      "* `status` =1 means fitting is successful, =0 means fit failed. \n",
      "\n",
      "That's it! You have got the best-fitting $M=199.8\\times10^{10} M_\\odot$ and $c=13.35$. \n",
      "### Estimate significances\n",
      "How does that compare to the real parameters of $M=183.5017\\times 10^{10}M_\\odot$, $c=16.1560$? Not too far, but let's check the likelihood ratio of the two models"
     ]
    },
    {
     "cell_type": "code",
     "collapsed": false,
     "input": [
      "x0=[183.5017,16.1560]\n",
      "f0=Sample.likelihood(x0, Estimators.RBinLike)\n",
      "likerat=2*(fval-f0)\n",
      "print likerat"
     ],
     "language": "python",
     "metadata": {},
     "outputs": [
      {
       "output_type": "stream",
       "stream": "stdout",
       "text": [
        "0.45408066703\n"
       ]
      }
     ],
     "prompt_number": 4
    },
    {
     "cell_type": "markdown",
     "metadata": {},
     "source": [
      "So we got a likelihood ratio of 0.45. How significant is that? According to Wilks' theorem, if the data follows the null model (with the real parameters), then the likelihood ratio between the best-fit and the null would follow a $\\chi^2$ distribution. Since we have two free parameters, we should compare our likelihood ratio to a $\\chi^2(dof=2)$ distribution. We can obtain the pval from the survival function of a $\\chi^2$ distribution, and convert that to a Guassian significance level. This is automatically done by the Chi2Sig() utility function"
     ]
    },
    {
     "cell_type": "code",
     "collapsed": false,
     "input": [
      "from myutils import Chi2Sig\n",
      "significance=Chi2Sig(likerat, dof=2)\n",
      "print significance"
     ],
     "language": "python",
     "metadata": {},
     "outputs": [
      {
       "output_type": "stream",
       "stream": "stdout",
       "text": [
        "0.257375854745\n"
       ]
      }
     ],
     "prompt_number": 5
    },
    {
     "cell_type": "markdown",
     "metadata": {},
     "source": [
      "So the best-fitting differs from the real parameters by $0.25\\sigma$, which is not significant at all. In other words, the best-fitting parameters are quite consistent with the real parameters! \n",
      "\n",
      "###Confidence Contour\n",
      "Following the same philosophy for the significance levels, we can start to define confidence contours formed by points that differ from the best-fitting parameters by a given significance level. This is done by scanning a likelihood surface and then converting it to a significance surface. For example, below we scan $20\\times20$ grids around the best-fitting parameters `x`, inside a box spanning from `log10(x)-dx` to `log10(x)+dx` in each dimension. For the confidence levels of RBinLike, we can provide the maximum likelihood value that we obtained above, to save the function from searching for maxlike itself. Be prepared that the scan can be slow."
     ]
    },
    {
     "cell_type": "code",
     "collapsed": false,
     "input": [
      "m,c,sig=Sample.scan_confidence(Estimators.RBinLike, x, ngrids=[20,20], dx=[0.5,0.5], logscale=True, maxlike=fval)"
     ],
     "language": "python",
     "metadata": {},
     "outputs": [],
     "prompt_number": 6
    },
    {
     "cell_type": "markdown",
     "metadata": {},
     "source": [
      "Now let's plot them in units of the real parameter values:"
     ]
    },
    {
     "cell_type": "code",
     "collapsed": false,
     "input": [
      "plt.contour(m/x0[0],c/x0[1],sig,levels=[1,2,3]) #1,2,3sigma contours.\n",
      "plt.plot(x[0]/x0[0],x[1]/x0[1],'ro') #the best-fitting\n",
      "plt.plot(plt.xlim(),[1,1], 'k--', [1,1], plt.ylim(),  'k--')# the real parameters\n",
      "plt.loglog()\n",
      "plt.xlabel(r'$M/M_0$')\n",
      "plt.ylabel(r'$c/c_0$')"
     ],
     "language": "python",
     "metadata": {},
     "outputs": [
      {
       "output_type": "pyout",
       "prompt_number": 7,
       "text": [
        "<matplotlib.text.Text at 0x3583cd0>"
       ]
      },
      {
       "output_type": "display_data",
       "png": "[encoded data removed]"
      }
     ],
     "prompt_number": 7
    },
    {
     "cell_type": "markdown",
     "metadata": {},
     "source": [
      "### Phase Images\n",
      "How does the data look in $(\\theta,E,L)$ space? We can create images showing the distribution of particles in these coordinates. These images give a direct visualization of how uniformly the tracer are distributed along $\\theta$-direction, on different ($E,L$) orbits. They are quite useful for spotting deviations from steady-stateness in particular regions in phase space, for example, to examine local deviations caused by subhaloes.\n",
      "\n",
      "To avoid having too few particles in each pixel we will start by drawing a larger sample as NewSample, and then plot the images adopting the real potential with parameters `x0`."
     ]
    },
    {
     "cell_type": "code",
     "collapsed": false,
     "input": [
      "NewSample=FullSample.copy(0,20000)"
     ],
     "language": "python",
     "metadata": {},
     "outputs": [],
     "prompt_number": 8
    },
    {
     "cell_type": "code",
     "collapsed": false,
     "input": [
      "plt.figure(figsize=(12,5))\n",
      "plt.subplot(1,2,1)\n",
      "NewSample.phase_image(x0, proxy='E')\n",
      "plt.title('Real Potential')\n",
      "plt.subplot(1,2,2)\n",
      "NewSample.phase_image(x0, proxy='L')\n",
      "plt.title('Real Potential')"
     ],
     "language": "python",
     "metadata": {},
     "outputs": [
      {
       "output_type": "pyout",
       "prompt_number": 9,
       "text": [
        "<matplotlib.text.Text at 0x38cab90>"
       ]
      },
      {
       "output_type": "display_data",
       "png": "[encoded data removed]"
      }
     ],
     "prompt_number": 9
    },
    {
     "cell_type": "markdown",
     "metadata": {},
     "source": [
      "We can see that the particle distribution is indeed uniform (roughly given the current resolution) along the $\\theta$-direction, irrespective of the energy and angular momentum. "
     ]
    },
    {
     "cell_type": "markdown",
     "metadata": {},
     "source": [
      "###TS profiles\n",
      "\n",
      "If you want a more quantitative view of how much deviation there is at each $E$, $L$ or even $r$, you can plot the mean phase deviation or AD distance (Test Statistics, or TS) inside different $(E,L,r)$ bins. "
     ]
    },
    {
     "cell_type": "code",
     "collapsed": false,
     "input": [
      "nbin=30\n",
      "x0=[183.5017,16.1560]\n",
      "plt.figure(figsize=(15,5))\n",
      "for i,proxy in enumerate('rEL'):\n",
      "    plt.subplot(1,3,i+1)\n",
      "    NewSample.plot_TSprof(x0, proxy, nbin)\n",
      "    plt.plot(plt.xlim(), [0,0], 'k--')"
     ],
     "language": "python",
     "metadata": {},
     "outputs": [
      {
       "output_type": "display_data",
       "png": "[encoded data removed]"
      }
     ],
     "prompt_number": 10
    },
    {
     "cell_type": "markdown",
     "metadata": {},
     "source": [
      "See, the mean phase deviations are within 3$\\sigma$ everywhere. Note that the raw mean phase is a standard normal variable if the tracer is in steady-state under the potential."
     ]
    },
    {
     "cell_type": "markdown",
     "metadata": {},
     "source": [
      "##Customizing the analysis"
     ]
    },
    {
     "cell_type": "markdown",
     "metadata": {},
     "source": [
      "### Estimators\n",
      "There are several predefined estimators to choose from when you need an estimator as a parameter. These are listed as members of `Estimators`. In most cases, you can freely choose from the following when an estimator is required.\n",
      "\n",
      "- Estimators.RBinLike\n",
      "- Estimators.AD\n",
      "- Estimators.MeanPhase\n",
      "- Estimators.MeanPhaseRaw (same as MeanPhase but returns the un-squared mean phase deviation, so it is a standard normal variable instead of a chi-square for MeanPhase).\n",
      "\n",
      "For RBinLike, you can also customize the number of radial bins and whether to bin in linear or log scales. For example, the following will change the RBinLike to use 20 linear bins."
     ]
    },
    {
     "cell_type": "code",
     "collapsed": false,
     "input": [
      "Estimators.RBinLike.nbin=20\n",
      "Estimators.RBinLike.logscale=False"
     ],
     "language": "python",
     "metadata": {},
     "outputs": [],
     "prompt_number": 11
    },
    {
     "cell_type": "markdown",
     "metadata": {},
     "source": [
      "###units\n",
      "The system of units is specified in three fundamental units: Mass[$M_\\odot/h$], Length[kpc$/h$], Velocity[km/s]. You can query the current units with"
     ]
    },
    {
     "cell_type": "code",
     "collapsed": false,
     "input": [
      "Globals.get_units()"
     ],
     "language": "python",
     "metadata": {},
     "outputs": [
      {
       "output_type": "stream",
       "stream": "stdout",
       "text": [
        "Mass  : 7300000000.0 Msun/h\n",
        "Length: 0.73 kpc/h\n",
        "Vel   : 1.0 km/s\n"
       ]
      },
      {
       "output_type": "pyout",
       "prompt_number": 12,
       "text": [
        "(7300000000.0, 0.73, 1.0)"
       ]
      }
     ],
     "prompt_number": 12
    },
    {
     "cell_type": "markdown",
     "metadata": {},
     "source": [
      "These units are typical for a simulated tracer in units of `[1e10Msun/h, kpc/h, km/s]` with `h=0.73`. The oPDF code does not need to know the value of the hubble constant, as long as the units are correctly specified. It is the user's responsibility to make sure that his/her units are consistent with his assumed hubble parameter. \n",
      "\n",
      "If you want to change the system of units, you must do it immediately after importing the `oPDF` module, to avoid inconsistency with units of previously loaded tracers. For example, to change the units to (1e10Msun/h,kpc/h,km/s),"
     ]
    },
    {
     "cell_type": "code",
     "collapsed": false,
     "input": [
      "from oPDF import *\n",
      "Globals.set_units(1e10,1,1)"
     ],
     "language": "python",
     "metadata": {},
     "outputs": [],
     "prompt_number": 13
    },
    {
     "cell_type": "markdown",
     "metadata": {},
     "source": [
      "The user should only use Globals.set_units() to change the units, which automatically updates several interal constants related to units. Never try to change the internal unit variables (e.g., Globals.units.MassInMsunh) manually."
     ]
    },
    {
     "cell_type": "markdown",
     "metadata": {},
     "source": [
      "###cosmology\n",
      "The cosmology parameters ($\\Omega_{M0}$, $\\Omega_{\\Lambda0}$)can be accessed through"
     ]
    },
    {
     "cell_type": "code",
     "collapsed": false,
     "input": [
      "print Globals.cosmology.OmegaM0, Globals.cosmology.OmegaL0"
     ],
     "language": "python",
     "metadata": {},
     "outputs": [
      {
       "output_type": "stream",
       "stream": "stdout",
       "text": [
        "0.3 0.7\n"
       ]
      }
     ],
     "prompt_number": 14
    },
    {
     "cell_type": "markdown",
     "metadata": {},
     "source": [
      "To change the cosmology to (0.25, 0.75), simply do"
     ]
    },
    {
     "cell_type": "code",
     "collapsed": false,
     "input": [
      "Globals.cosmology.OmegaM0=0.25\n",
      "Globals.cosmology.OmegaL0=0.75"
     ],
     "language": "python",
     "metadata": {},
     "outputs": [],
     "prompt_number": 15
    },
    {
     "cell_type": "markdown",
     "metadata": {},
     "source": [
      "Again this is advised to be done in the beginning, to avoid inconsistency in the calculations."
     ]
    },
    {
     "cell_type": "markdown",
     "metadata": {},
     "source": [
      "###parametrization of the potential\n",
      "The default parameterization of the potential is a NFW potential with mass and concentration parameters. You can change the parametrization of the halo associated with your tracer. For example, if you want to fit for $(\\rho_s,r_s)$ instead of ($M,c$), then"
     ]
    },
    {
     "cell_type": "code",
     "collapsed": false,
     "input": [
      "Sample.halo.set_type(halotype=HaloTypes.NFWRhosRs)"
     ],
     "language": "python",
     "metadata": {},
     "outputs": [],
     "prompt_number": 16
    },
    {
     "cell_type": "markdown",
     "metadata": {},
     "source": [
      "Available types are listed as members of the `HaloTypes` objects, including:\n",
      "\n",
      "- HaloTypes.NFWMC: NFW halo parametrized by $(M,c)$\n",
      "- HaloTypes.NFWRhosRs: NFW, $(\\rho_s,r_s)$\n",
      "- HaloTypes.NFWPotsRs: NFW, ($\\psi_s, r_s$), with $\\psi_s=4\\pi G\\rho_s r_s^2$.\n",
      "- HaloTypes.CorePotsRs: Cored Generalized NFW Potential (inner density slope=0), parametrized by ($\\psi_s,r_s$)\n",
      "- HaloTypes.CoreRhosRs: Cored GNFW, $(\\rho_s,r_s)$\n",
      "- HaloTypes.TMPMC: Template profile, $(M,c)$ parametrization\n",
      "- HaloTypes.TMPPotScaleRScale: Template, $\\psi_s/\\psi_{s0}, r_s/r_{s0}$\n",
      "\n",
      "To use template profiles, you have to creates them first, in the form of ($r,\\psi,\\rho(\\lt r)$) arrays and the real $r_s$ parameter to be added to TemplateData.h. You need to recompile the C library once this is done. PotentialProf.py can help you in generating the templates from DM distributions.\n",
      "\n",
      "If you use template profiles, you also need to specify the template id, to tell the code which template in TemplateData.h to use. For example,\n"
     ]
    },
    {
     "cell_type": "code",
     "collapsed": false,
     "input": [
      "Sample.halo.set_type(halotype=HaloTypes.TMPPotScaleRScale, TMPid=5)"
     ],
     "language": "python",
     "metadata": {},
     "outputs": [],
     "prompt_number": 17
    },
    {
     "cell_type": "markdown",
     "metadata": {},
     "source": [
      "You can also change the virial definition and redshift of the halo, for example:"
     ]
    },
    {
     "cell_type": "code",
     "collapsed": false,
     "input": [
      "Sample.halo.set_type(virtype=VirTypes.B200, redshift=0.1)"
     ],
     "language": "python",
     "metadata": {},
     "outputs": [],
     "prompt_number": 18
    },
    {
     "cell_type": "markdown",
     "metadata": {},
     "source": [
      "When fitting for the potential, it is always a good choice to adjust the scales of parameters so that the numerical values of the parameters are of order 1. oPDF allows you to change the scale of the parameters. The physical values of the parameters will be the raw parameters times the scale of parameters. By default, the scales are all set to unity. We can change them as"
     ]
    },
    {
     "cell_type": "code",
     "collapsed": false,
     "input": [
      "Sample.halo.set_type(scales=[100,10])"
     ],
     "language": "python",
     "metadata": {},
     "outputs": [],
     "prompt_number": 19
    },
    {
     "cell_type": "markdown",
     "metadata": {},
     "source": [
      "Now if we fit the Sample again with the RBinLike estimator, instead of `x=[ 199.83322898   13.35230033]`, we will get `x=[1.9983322898   1.335230033]` as the best fit, but the physical values are not changed."
     ]
    },
    {
     "cell_type": "markdown",
     "metadata": {},
     "source": [
      "####Halos\n",
      "Each tracer is associated with a halo. You can also work with a seperate halo object. There are several methods associated with a halo object. You can set_type(), set_param(), get the mass and potential profiles"
     ]
    },
    {
     "cell_type": "code",
     "collapsed": false,
     "input": [
      "halo=Halo(halotype=HaloTypes.NFWMC)\n",
      "halo.set_param([180,13])\n",
      "r=np.logspace(-2,1,10)\n",
      "plt.figure(figsize=(16,4))\n",
      "plt.subplot(121)\n",
      "plt.loglog(r, halo.mass(r))\n",
      "plt.xlabel('r')\n",
      "plt.ylabel('M(<r)')\n",
      "plt.subplot(122)\n",
      "plt.loglog(r, -halo.pot(r))\n",
      "plt.xlabel('r')\n",
      "plt.ylabel(r'$-\\psi(r)$')"
     ],
     "language": "python",
     "metadata": {},
     "outputs": [
      {
       "output_type": "pyout",
       "prompt_number": 20,
       "text": [
        "<matplotlib.text.Text at 0x3a47f90>"
       ]
      },
      {
       "output_type": "display_data",
       "png": "[encoded data removed]"
      }
     ],
     "prompt_number": 20
    },
    {
     "cell_type": "markdown",
     "metadata": {},
     "source": [
      "###selecting and cutting\n",
      "This applies a radial cut from 1 to 100 in system unit :"
     ]
    },
    {
     "cell_type": "code",
     "collapsed": false,
     "input": [
      "Sample.radial_cut(1,100)"
     ],
     "language": "python",
     "metadata": {},
     "outputs": [],
     "prompt_number": 21
    },
    {
     "cell_type": "markdown",
     "metadata": {},
     "source": [
      "This creates a subsample by selecting high angular momentum (L>1e4) particles:"
     ]
    },
    {
     "cell_type": "code",
     "collapsed": false,
     "input": [
      "SubSample=Sample.select(Sample.data['L']>1e4)"
     ],
     "language": "python",
     "metadata": {},
     "outputs": [],
     "prompt_number": 22
    },
    {
     "cell_type": "markdown",
     "metadata": {},
     "source": [
      "All the particle data can be accessed from the record array Sample.data. You can do similar selections (and many other operations) on any available fields of the data. Have a look at the datatype or `Particle_t._fields_` to see the available fields"
     ]
    },
    {
     "cell_type": "code",
     "collapsed": false,
     "input": [
      "print Sample.data.dtype.names"
     ],
     "language": "python",
     "metadata": {},
     "outputs": [
      {
       "output_type": "stream",
       "stream": "stdout",
       "text": [
        "('haloid', 'subid', 'flag', 'w', 'r', 'K', 'L2', 'L', 'x', 'v', 'E', 'T', 'vr', 'theta', 'rlim')\n"
       ]
      }
     ],
     "prompt_number": 23
    },
    {
     "cell_type": "markdown",
     "metadata": {},
     "source": [
      "Note:\n",
      "\n",
      "- The `w` field is the particle mass in units of the average particle mass. The average particle mass is `Sample.mP`. These are all ones if no particle mass is given in the datafile.\n",
      "- the `haloid` and `subid` fields are only filled if you have `SubID` and `HaloID` datasets in the datafile when loading. \n",
      "- The `E`,`theta` and `rlim` fields are the energy, phase-angle, and radial limits (peri and apo-center distances) of the orbits. These depend on the potential, and are only filled when you have done some calculation in a halo or have filled them explicitly with the set_phase() function, e.g.,"
     ]
    },
    {
     "cell_type": "code",
     "collapsed": true,
     "input": [
      "Sample.set_phase(x0)\n",
      "print Sample.data['E'][10]\n",
      "print Sample.data['theta'][35]"
     ],
     "language": "python",
     "metadata": {},
     "outputs": [
      {
       "output_type": "stream",
       "stream": "stdout",
       "text": [
        "17315092.5043\n",
        "0.951058668996\n"
       ]
      }
     ],
     "prompt_number": 24
    }
   ],
   "metadata": {}
  }
 ]
}