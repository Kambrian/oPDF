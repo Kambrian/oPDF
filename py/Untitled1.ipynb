{
 "metadata": {
  "name": "Untitled1"
 },
 "nbformat": 3,
 "nbformat_minor": 0,
 "worksheets": [
  {
   "cells": [
    {
     "cell_type": "raw",
     "metadata": {},
     "source": [
      "To be Improved: plot one-sigma contours"
     ]
    },
    {
     "cell_type": "code",
     "collapsed": false,
     "input": [
      "from matplotlib.patches import Ellipse"
     ],
     "language": "python",
     "metadata": {},
     "outputs": [],
     "prompt_number": 73
    },
    {
     "cell_type": "code",
     "collapsed": false,
     "input": [
      "NameList={4:'RBin',8:'AD',9:'Resultant',10:'Mean',11:'KS',12:'Kuiper',13:'CosMean'}\n",
      "ColorList={0:'k',4:'r',8:'g',9:'b',10:'c',11:'m',12:'y',13:'k'} \n",
      "SigmaDef={4:1.1,8:-1.084,9:-2.3,10:-1.15,11:-1.101,12:-0.714,13:-1.15}\n",
      "sample=0 \n",
      "mid=8\n",
      "T=1\n",
      "def plot_scan(mid,T=1,sample=0):\n",
      "    data=loadtxt('/mnt/charon/DynDistr/data/scanLarge%d/model%d.T%d'%(sample,mid,T))\n",
      "    if int(sqrt(data.shape[0]))**2!=data.shape[0]:\n",
      "        print data.shape\n",
      "        return [],[],[]\n",
      "    n=sqrt(data.shape[0])\n",
      "    x=data[:,0].reshape([n,n],order='F')\n",
      "    y=data[:,1].reshape([n,n],order='F')\n",
      "    z=data[:,2].reshape([n,n],order='F')\n",
      "    x=log10(x)\n",
      "    y=log10(y)\n",
      "    #figure()\n",
      "    #imshow(z,extent=[x.min(),x.max(),y.min(),y.max()],origin='lower')\n",
      "    if mid==4:\n",
      "        lvls=[nanmax(z)-SigmaDef[mid]]\n",
      "    else:\n",
      "        lvls=[SigmaDef[mid]]\n",
      "    #lvls=nanmax(z)-array([0,0.2,1,3,5,10,20])    \n",
      "    CS=contour(x,y,z,levels=lvls,origin='lower',colors=ColorList[mid],linestyles='solid')    \n",
      "    #CS=contour(z,levels=lvls,extent=[x.min(),x.max(),y.min(),y.max()],origin='lower',colors=ColorList[mid])\n",
      "    #clabel(CS,inline=1)\n",
      "    xlabel(r'$\\log(M/M_0)$')\n",
      "    ylabel(r'$\\log(c/c_0)$')\n",
      "    #title(NameList[mid]+' T%d'%T)\n",
      "    #axis([-1,1,-1,1])\n",
      "    h=Ellipse((0,0),0,0,fill=False, color=ColorList[mid],label=NameList[mid])\n",
      "    #savefig('/work/Projects/DynDistr/plots/Scan%d_Model%d_T%d.eps'%(sample,mid,T))\n",
      "    return x,y,z,h"
     ],
     "language": "python",
     "metadata": {},
     "outputs": [],
     "prompt_number": 110
    },
    {
     "cell_type": "code",
     "collapsed": false,
     "input": [
      "for T in [1,]:\n",
      "    #subplot(1,2,T)\n",
      "    hall=[]\n",
      "    for mid in [4,8,10,11]:\n",
      "        h=plot_scan(mid,T,sample)\n",
      "        hall.append(h[-1])\n",
      "    legend(hall,[getp(x,'label') for x in hall],loc=1)   \n",
      "savefig('/work/Projects/DynDistr/plots/SigmaScan.eps')    "
     ],
     "language": "python",
     "metadata": {},
     "outputs": [],
     "prompt_number": 111
    },
    {
     "cell_type": "code",
     "collapsed": false,
     "input": [
      "hall=[]\n",
      "T=1\n",
      "mid=8\n",
      "for sid in range(0,800,100):\n",
      "    h=plot_scan(mid,T,sid)\n",
      "    hall.append(h[-1])\n",
      "#legend(hall,[getp(x,'label') for x in hall],loc=1)  "
     ],
     "language": "python",
     "metadata": {},
     "outputs": [],
     "prompt_number": 108
    },
    {
     "cell_type": "code",
     "collapsed": false,
     "input": [
      "h=plot_scan(12,1)"
     ],
     "language": "python",
     "metadata": {},
     "outputs": [],
     "prompt_number": 96
    },
    {
     "cell_type": "code",
     "collapsed": false,
     "input": [
      "CS=contour(x,y,z)\n",
      "clabel(CS,inline=1)\n",
      "#loglog()"
     ],
     "language": "python",
     "metadata": {},
     "outputs": [
      {
       "output_type": "pyout",
       "prompt_number": 48,
       "text": [
        "<a list of 8 text.Text objects>"
       ]
      }
     ],
     "prompt_number": 48
    },
    {
     "cell_type": "code",
     "collapsed": false,
     "input": [
      "close('all')"
     ],
     "language": "python",
     "metadata": {},
     "outputs": [],
     "prompt_number": 4
    }
   ],
   "metadata": {}
  }
 ]
}